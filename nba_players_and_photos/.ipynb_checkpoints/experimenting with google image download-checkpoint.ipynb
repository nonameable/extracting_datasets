{
 "cells": [
  {
   "cell_type": "code",
   "execution_count": 3,
   "metadata": {},
   "outputs": [
    {
     "name": "stdout",
     "output_type": "stream",
     "text": [
      "\n",
      "Item no.: 1 --> Item name = Polar bears\n",
      "Evaluating...\n",
      "Starting Download...\n",
      "Image URL: https://defenders.org/sites/default/files/styles/homepage-feature-2015/public/polar-bear_j.-lyle.png?itok=EAQm89Z4\n",
      "Completed Image ====> 1. polar-bear_j.-lyle.png\n",
      "\n",
      "Errors: 0\n",
      "\n",
      "\n",
      "Item no.: 2 --> Item name = baloons\n",
      "Evaluating...\n",
      "Starting Download...\n",
      "Image URL: https://crateman.co.uk/wp-content/uploads/2016/08/PNGPIX-COM-Colorful-Balloons-PNG-image-1.png\n",
      "Completed Image ====> 1. png\n",
      "\n",
      "Errors: 0\n",
      "\n",
      "\n",
      "Item no.: 3 --> Item name = Beaches\n",
      "Evaluating...\n",
      "Starting Download...\n",
      "Image URL: http://www.addtobucketlist.com/wp-content/uploads/2017/08/addtobucketlistBest-Tropical-Beaches.png\n",
      "Completed Image ====> 1. addtobucketlistbest-tropical-beaches.png\n",
      "\n",
      "Errors: 0\n",
      "\n",
      "{'Polar bears': ['/Users/damaderu/Documents/data_science/extracting_datasets/nba_players_and_photos/downloads/1. polar-bear_j.-lyle.png'], 'baloons': ['/Users/damaderu/Documents/data_science/extracting_datasets/nba_players_and_photos/downloads/1. png'], 'Beaches': ['/Users/damaderu/Documents/data_science/extracting_datasets/nba_players_and_photos/downloads/1. addtobucketlistbest-tropical-beaches.png']}\n"
     ]
    }
   ],
   "source": [
    "from google_images_download import google_images_download   #importing the library\n",
    "\n",
    "response = google_images_download.googleimagesdownload()   #class instantiation\n",
    "\n",
    "paths = response.download(arguments)   #passing the arguments to the function\n",
    "print(paths)"
   ]
  },
  {
   "cell_type": "code",
   "execution_count": null,
   "metadata": {},
   "outputs": [],
   "source": []
  }
 ],
 "metadata": {
  "kernelspec": {
   "display_name": "Python 3",
   "language": "python",
   "name": "python3"
  },
  "language_info": {
   "codemirror_mode": {
    "name": "ipython",
    "version": 3
   },
   "file_extension": ".py",
   "mimetype": "text/x-python",
   "name": "python",
   "nbconvert_exporter": "python",
   "pygments_lexer": "ipython3",
   "version": "3.6.5"
  }
 },
 "nbformat": 4,
 "nbformat_minor": 2
}
